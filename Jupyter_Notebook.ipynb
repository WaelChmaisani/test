{
 "cells": [
  {
   "cell_type": "markdown",
   "id": "de3dc24c-f4cf-4c6b-aefc-8e9d98543525",
   "metadata": {},
   "source": [
    "# My Jupyter Notebook on IBM Watson Studio"
   ]
  },
  {
   "cell_type": "markdown",
   "id": "1ce9765f-5b5e-46db-aa78-e2dc33e7f821",
   "metadata": {},
   "source": [
    "**Wael Chmaisani**\n",
    "\n",
    "PhD in Computationl Physics"
   ]
  },
  {
   "cell_type": "markdown",
   "id": "ba17bb3a-6eb5-4ef2-a612-b98bc39bc23d",
   "metadata": {},
   "source": [
    "*I am interested in data science because it is currently the sexiest job. Moreover, I have curiosity in working data and generate solution for enterprise problems.*"
   ]
  },
  {
   "cell_type": "markdown",
   "id": "af79ea67-e2dc-498f-abff-19c1af5a3d56",
   "metadata": {},
   "source": [
    "### Multiplication between two numbers"
   ]
  },
  {
   "cell_type": "code",
   "execution_count": 1,
   "id": "a559671a-a241-425d-8a54-2cb7a23ae714",
   "metadata": {},
   "outputs": [
    {
     "data": {
      "text/plain": [
       "2"
      ]
     },
     "execution_count": 1,
     "metadata": {},
     "output_type": "execute_result"
    }
   ],
   "source": [
    "a=1\n",
    "b=2\n",
    "c=a*b\n",
    "c"
   ]
  },
  {
   "cell_type": "markdown",
   "id": "30ff33b4-6e56-45ef-bc00-487adc14c905",
   "metadata": {},
   "source": [
    "|Name|Gender|Age|\n",
    "|----|------|---|\n",
    "|Wael|Male  |34 |\n",
    "|Anjy|Female|14 |\n",
    "\n",
    "----\n",
    "\n",
    "Different languages can be used in data science field:\n",
    "1. Python\n",
    "2. R\n",
    "3. SQL"
   ]
  }
 ],
 "metadata": {
  "kernelspec": {
   "display_name": "Python",
   "language": "python",
   "name": "conda-env-python-py"
  },
  "language_info": {
   "codemirror_mode": {
    "name": "ipython",
    "version": 3
   },
   "file_extension": ".py",
   "mimetype": "text/x-python",
   "name": "python",
   "nbconvert_exporter": "python",
   "pygments_lexer": "ipython3",
   "version": "3.7.12"
  }
 },
 "nbformat": 4,
 "nbformat_minor": 5
}
